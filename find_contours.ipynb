{
 "cells": [
  {
   "cell_type": "code",
   "execution_count": null,
   "metadata": {},
   "outputs": [],
   "source": [
    "import cv2\n",
    "import matplotlib.pyplot as plt\n",
    "\n",
    "#画像を読み込んでリサイズ\n",
    "img = cv2.imread(\"nishikiaoiW.jpg\")\n",
    "img = cv2.resize(img, (300, 169))\n",
    "\n",
    "#色空間を二値化\n",
    "gray = cv2.cvtColor(img, cv2.COLOR_BGR2GRAY)\n",
    "gray = cv2.GaussianBlur(gray, (7, 7), 0)\n",
    "im2 = cv2.threshold(gray, 140, 240, cv2.THRESH_BINARY_INV)[1]\n",
    "\n",
    "#画面左側に二値化した画像を描画\n",
    "plt.subplot(1, 2, 1)\n",
    "plt.imshow(im2, cmap = \"gray\")\n",
    "\n",
    "#輪郭を抽出\n",
    "cnts = cv2.findContours(im2, cv2.RETR_LIST, cv2.CHAIN_APPROX_SIMPLE)[1]\n",
    "\n",
    "print(cnts)\n",
    "#display(cnts)\n",
    "#抽出した枠を描画\n",
    "for pt in cnts:\n",
    "    #print(pt)\n",
    "    x, y, w, h = cv2.boundingRect(pt)\n",
    "    print(x,y,w)\n",
    "    #大きすぎたり小さすぎる領域を除去\n",
    "    if w < 30 or w > 200: continue\n",
    "    print(x,y,w,h) #結果を出力\n",
    "    cv2.rectangle(img, (x, y), (x+w, y+h), (0, 255, 0), 2)\n",
    "   \n",
    "    \n",
    "#画面右側に抽出結果を描画\n",
    "plt.subplot(1, 2, 2)\n",
    "plt.imshow(cv2.cvtColor(img, cv2.COLOR_BGR2RGB))\n",
    "plt.savefig(\"find_contours.png\", dpi=200)\n",
    "plt.show()"
   ]
  },
  {
   "cell_type": "code",
   "execution_count": null,
   "metadata": {},
   "outputs": [],
   "source": []
  }
 ],
 "metadata": {
  "kernelspec": {
   "display_name": "Python 3",
   "language": "python",
   "name": "python3"
  },
  "language_info": {
   "codemirror_mode": {
    "name": "ipython",
    "version": 3
   },
   "file_extension": ".py",
   "mimetype": "text/x-python",
   "name": "python",
   "nbconvert_exporter": "python",
   "pygments_lexer": "ipython3",
   "version": "3.7.6"
  }
 },
 "nbformat": 4,
 "nbformat_minor": 4
}
